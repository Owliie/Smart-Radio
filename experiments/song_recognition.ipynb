{
 "cells": [
  {
   "cell_type": "code",
   "execution_count": 1,
   "metadata": {},
   "outputs": [],
   "source": [
    "import numpy as np\n",
    "import pydub\n",
    "import matplotlib.pyplot as plt\n",
    "import time"
   ]
  },
  {
   "cell_type": "markdown",
   "metadata": {},
   "source": [
    "Discrete Fourier transform: $$M_{kn}=e^\\frac{−i*2π*k*n}{N}$$"
   ]
  },
  {
   "cell_type": "code",
   "execution_count": 2,
   "metadata": {},
   "outputs": [],
   "source": [
    "def DFT(x, N): #slow: O(N^2)\n",
    "    x = np.asarray(x, dtype = float)\n",
    "    \n",
    "    n = np.arange(N)\n",
    "    k = n.reshape(N, 1)\n",
    "    \n",
    "    M = np.exp(-1j * 2 * np.pi * k * n / N)\n",
    "    \n",
    "    return M"
   ]
  },
  {
   "cell_type": "code",
   "execution_count": 3,
   "metadata": {},
   "outputs": [],
   "source": [
    "def FFT(x): #fast: O(Nlog(N))\n",
    "    N = x.shape[0]\n",
    "    half = int(N/2)\n",
    "    \n",
    "    #even\n",
    "    even = np.zeros(half,dtype=np.complex_)\n",
    "    for i in range(half):\n",
    "        even[i] = x[2*i]\n",
    "    even_part = FFT(even)\n",
    "    \n",
    "    #odd\n",
    "    odd = even\n",
    "    for i in range(half):\n",
    "        odd[i] = x[2*i + 1]\n",
    "    odd_part = FFT(odd)\n",
    "    \n",
    "    #merging\n",
    "    final = np.zeros(half,dtype=np.complex_)\n",
    "    for i in range(half):\n",
    "        power = -2 * i * np.pi / N\n",
    "        w_power = np.cos(power) + j*np.sin(power)\n",
    "        final[i] = even_part[i] + w_power * odd_part[i]\n",
    "        final[i + half] = even_part[i] - w_power * odd_part[i]\n",
    "    \n",
    "    return final"
   ]
  },
  {
   "cell_type": "code",
   "execution_count": 4,
   "metadata": {},
   "outputs": [],
   "source": [
    "def vector_FFT(complex_input):\n",
    "    complex_input = np.asarray(complex_input, dtype=float)\n",
    "    N = complex_input.shape[0]\n",
    "    \n",
    "    if np.log2(N) % 1 != 0:\n",
    "        print(\"o nono\")\n",
    "        \n",
    "    min_N = min(N, 32)\n",
    "    \n",
    "    x = np.dot(DFT(complex_input, min_N), complex_input.reshape((min_N, -1)))\n",
    "    \n",
    "    while x.shape[0] < N:\n",
    "        first_half = x[:, :x.shape[1]/2]\n",
    "        second_half = x[:, x.shape[1]/2:]\n",
    "        factor = np.exp(-1j * np.pi * np.arange(x.shape[0]) / x.shape[0])[:, None]\n",
    "        x = np.vstack([first_half + factor * second_half, first_half - factor * second_half])\n",
    "        \n",
    "    return complex_input.ravel()"
   ]
  },
  {
   "cell_type": "code",
   "execution_count": 5,
   "metadata": {
    "scrolled": false
   },
   "outputs": [
    {
     "name": "stderr",
     "output_type": "stream",
     "text": [
      "C:\\Anaconda3\\lib\\site-packages\\numpy\\core\\numeric.py:538: ComplexWarning: Casting complex values to real discards the imaginary part\n",
      "  return array(a, dtype, copy=False, order=order)\n"
     ]
    },
    {
     "data": {
      "image/png": "[encoded data removed]",
      "text/plain": [
       "<Figure size 432x288 with 1 Axes>"
      ]
     },
     "metadata": {
      "needs_background": "light"
     },
     "output_type": "display_data"
    }
   ],
   "source": [
    "path = \"./songs/epic.mp3\"\n",
    "sound = pydub.AudioSegment.from_mp3(path)\n",
    "song = np.array(sound.get_array_of_samples())\n",
    "\n",
    "if sound.channels == 2:\n",
    "        song = song.reshape((-1, 2))\n",
    "\n",
    "size = song.shape[0]\n",
    "chunk_size = 4000 #4kHz is best for bins\n",
    "sampled_chunk_size = int(size/chunk_size)\n",
    "\n",
    "sampled = np.zeros(shape=(sampled_chunk_size, chunk_size), dtype=np.complex_)\n",
    "\n",
    "for i in range(sampled_chunk_size):\n",
    "    time_variations = np.zeros(chunk_size, dtype=np.complex_)\n",
    "\n",
    "    for j in range(chunk_size):\n",
    "        time_variations[j] = complex(song[i * chunk_size + 1][0], 0)\n",
    "#         print(time_variations[j])\n",
    "        \n",
    "    sampled[i] = np.fft.fft(time_variations)\n",
    "# print(sampled)\n",
    "plt.plot(sampled[:500, :])\n",
    "plt.show()"
   ]
  },
  {
   "cell_type": "markdown",
   "metadata": {},
   "source": [
    "The most distinguishable frequencies when it comes to fingerprinting are those between low C (or C1: 32.70Hz) and high C (C8: 4186.01Hz). So the best frequencies are 30Hz - 40Hz, 40Hz - 80Hz and 80Hz - 120Hz for the low tones (e.g. bass guitar), and 120Hz - 180Hz and 180Hz - 300Hz for the middle and higher tones (vocals and most of the other instruments)."
   ]
  },
  {
   "cell_type": "code",
   "execution_count": 6,
   "metadata": {},
   "outputs": [],
   "source": [
    "FREQUENCIES = [40, 80, 120, 180, 300]"
   ]
  },
  {
   "cell_type": "code",
   "execution_count": 7,
   "metadata": {},
   "outputs": [],
   "source": [
    "def get_range_of_frequency(frq):\n",
    "    return max(list(range(len(FREQUENCIES))), key = lambda x: FREQUENCIES[x] > frq)"
   ]
  },
  {
   "cell_type": "code",
   "execution_count": 8,
   "metadata": {},
   "outputs": [
    {
     "data": {
      "text/plain": [
       "2"
      ]
     },
     "execution_count": 8,
     "metadata": {},
     "output_type": "execute_result"
    }
   ],
   "source": [
    "get_range_of_frequency(100)"
   ]
  },
  {
   "cell_type": "code",
   "execution_count": 9,
   "metadata": {},
   "outputs": [],
   "source": [
    "peaks = np.zeros(shape=(sampled_chunk_size, 5))\n",
    "highest = np.zeros(shape=(sampled_chunk_size, 5))"
   ]
  },
  {
   "cell_type": "code",
   "execution_count": 10,
   "metadata": {},
   "outputs": [],
   "source": [
    "def fingerprint_hash(v1, v2, v3, v4):\n",
    "#     print(v1, \" \", v2, \" \", v3, \" \", v4)\n",
    "    return (v4 - v4%2)*100000000 + (v3 - v3%2)*100000 + (v2 - v2%2)*100 + v1 - v1%2"
   ]
  },
  {
   "cell_type": "code",
   "execution_count": 15,
   "metadata": {},
   "outputs": [
    {
     "name": "stdout",
     "output_type": "stream",
     "text": [
      "2086\n"
     ]
    },
    {
     "data": {
      "image/png": "[encoded data removed]",
      "text/plain": [
       "<Figure size 432x288 with 1 Axes>"
      ]
     },
     "metadata": {
      "needs_background": "light"
     },
     "output_type": "display_data"
    }
   ],
   "source": [
    "hashing = np.zeros(shape=sampled.shape[0])\n",
    "unique = []\n",
    "\n",
    "for i in range(0, sampled.shape[0]):\n",
    "    for frq in range(0, 300):\n",
    "        magnitude = np.log2(np.abs(sampled[i][frq])+1)\n",
    "#         print(np.log2(np.abs(sampled[i][frq])+1))\n",
    "        range_index = get_range_of_frequency(frq)\n",
    "#         print(\"magnitude: \", magnitude)\n",
    "#         print(\"highest: \", highest[i][range_index])\n",
    "\n",
    "        if magnitude > highest[i][range_index]:\n",
    "            highest[i][range_index] = magnitude\n",
    "            peaks[i][range_index] = frq\n",
    "\n",
    "    hashing[i] = fingerprint_hash(peaks[i][0], peaks[i][1], peaks[i][2], peaks[i][3])\n",
    "    unique.append((peaks[i][0], peaks[i][1], peaks[i][2], peaks[i][3]))\n",
    "# plt.hist(hashing)\n",
    "print(len(list(set(unique))))\n",
    "plt.plot(unique)\n",
    "plt.show()"
   ]
  },
  {
   "cell_type": "code",
   "execution_count": null,
   "metadata": {},
   "outputs": [],
   "source": []
  }
 ],
 "metadata": {
  "kernelspec": {
   "display_name": "Python 3",
   "language": "python",
   "name": "python3"
  },
  "language_info": {
   "codemirror_mode": {
    "name": "ipython",
    "version": 3
   },
   "file_extension": ".py",
   "mimetype": "text/x-python",
   "name": "python",
   "nbconvert_exporter": "python",
   "pygments_lexer": "ipython3",
   "version": "3.7.4"
  }
 },
 "nbformat": 4,
 "nbformat_minor": 2
}
