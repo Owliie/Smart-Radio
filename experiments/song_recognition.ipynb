{
 "cells": [
  {
   "cell_type": "code",
   "execution_count": 1,
   "metadata": {},
   "outputs": [],
   "source": [
    "import numpy as np"
   ]
  },
  {
   "cell_type": "markdown",
   "metadata": {},
   "source": [
    "$$Mkn=e^(\\frac{−i*2π*k*n}{N})$$"
   ]
  },
  {
   "cell_type": "code",
   "execution_count": 3,
   "metadata": {},
   "outputs": [],
   "source": [
    "def DFT(x): #slow: O(N^2)\n",
    "    x = np.asarray(x, dtype = float)\n",
    "    N = x.shape[0] #1D\n",
    "    \n",
    "    n = np.arrange(N)\n",
    "    k = n.reshape(N, 1)\n",
    "    \n",
    "    M = np.exp(-j * 2 * np.pi * k * n / N)    "
   ]
  },
  {
   "cell_type": "code",
   "execution_count": 9,
   "metadata": {},
   "outputs": [],
   "source": [
    "def FFT(x): #fast: O(Nlog(N))\n",
    "    N = x.length\n",
    "    half = N/2\n",
    "    \n",
    "    #even\n",
    "    even = np.zeros(half,dtype=np.complex_)\n",
    "    for i in range(half):\n",
    "        even[i] = x[2*i]\n",
    "    even_part = FFT(even)\n",
    "    \n",
    "    #odd\n",
    "    odd = even\n",
    "    for i in range(half):\n",
    "        odd[i] = x[2*i + 1]\n",
    "    odd_part = FFT(odd)\n",
    "    \n",
    "    #merging\n",
    "    final = np.zeros(half,dtype=np.complex_)\n",
    "    for i in range(half):\n",
    "        power = -2 * i * np.pi / N\n",
    "        w_power = np.cos(power) + j*np.sin(power)\n",
    "        final[i] = even_part[i] + w_power * odd_part[i]\n",
    "        final[i + half] = even_part[i] - w_power * odd_part[i]\n",
    "    \n",
    "    return final"
   ]
  }
 ],
 "metadata": {
  "kernelspec": {
   "display_name": "Python 3",
   "language": "python",
   "name": "python3"
  },
  "language_info": {
   "codemirror_mode": {
    "name": "ipython",
    "version": 3
   },
   "file_extension": ".py",
   "mimetype": "text/x-python",
   "name": "python",
   "nbconvert_exporter": "python",
   "pygments_lexer": "ipython3",
   "version": "3.7.4"
  }
 },
 "nbformat": 4,
 "nbformat_minor": 2
}
